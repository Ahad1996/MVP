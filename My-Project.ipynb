{
 "cells": [
  {
   "cell_type": "code",
   "execution_count": 307,
   "id": "655fe01d",
   "metadata": {},
   "outputs": [],
   "source": [
    "#load 3 libraries\n",
    "import pandas as pd\n",
    "import numpy as np\n",
    "import matplotlib.pyplot as plt\n",
    "import seaborn as sns"
   ]
  },
  {
   "cell_type": "markdown",
   "id": "9dbec065",
   "metadata": {},
   "source": [
    "## EDA steps:"
   ]
  },
  {
   "cell_type": "markdown",
   "id": "e8797a58",
   "metadata": {},
   "source": [
    "## 1- Sourcing Data"
   ]
  },
  {
   "cell_type": "code",
   "execution_count": 308,
   "id": "471b9b7d",
   "metadata": {},
   "outputs": [],
   "source": [
    "# Read data\n",
    "df= pd.read_csv('test-travel.csv',index_col=0) "
   ]
  },
  {
   "cell_type": "code",
   "execution_count": 309,
   "id": "c3d37e31",
   "metadata": {},
   "outputs": [
    {
     "data": {
      "text/html": [
       "<div>\n",
       "<style scoped>\n",
       "    .dataframe tbody tr th:only-of-type {\n",
       "        vertical-align: middle;\n",
       "    }\n",
       "\n",
       "    .dataframe tbody tr th {\n",
       "        vertical-align: top;\n",
       "    }\n",
       "\n",
       "    .dataframe thead th {\n",
       "        text-align: right;\n",
       "    }\n",
       "</style>\n",
       "<table border=\"1\" class=\"dataframe\">\n",
       "  <thead>\n",
       "    <tr style=\"text-align: right;\">\n",
       "      <th></th>\n",
       "      <th>id</th>\n",
       "      <th>Gender</th>\n",
       "      <th>Customer Type</th>\n",
       "      <th>Age</th>\n",
       "      <th>Type of Travel</th>\n",
       "      <th>Class</th>\n",
       "      <th>Flight Distance</th>\n",
       "      <th>Inflight wifi service</th>\n",
       "      <th>Departure/Arrival time convenient</th>\n",
       "      <th>Ease of Online booking</th>\n",
       "      <th>...</th>\n",
       "      <th>Inflight entertainment</th>\n",
       "      <th>On-board service</th>\n",
       "      <th>Leg room service</th>\n",
       "      <th>Baggage handling</th>\n",
       "      <th>Checkin service</th>\n",
       "      <th>Inflight service</th>\n",
       "      <th>Cleanliness</th>\n",
       "      <th>Departure Delay in Minutes</th>\n",
       "      <th>Arrival Delay in Minutes</th>\n",
       "      <th>satisfaction</th>\n",
       "    </tr>\n",
       "  </thead>\n",
       "  <tbody>\n",
       "    <tr>\n",
       "      <th>0</th>\n",
       "      <td>19556</td>\n",
       "      <td>Female</td>\n",
       "      <td>Loyal Customer</td>\n",
       "      <td>52</td>\n",
       "      <td>Business travel</td>\n",
       "      <td>Eco</td>\n",
       "      <td>160</td>\n",
       "      <td>5</td>\n",
       "      <td>4</td>\n",
       "      <td>3</td>\n",
       "      <td>...</td>\n",
       "      <td>5</td>\n",
       "      <td>5</td>\n",
       "      <td>5</td>\n",
       "      <td>5</td>\n",
       "      <td>2</td>\n",
       "      <td>5</td>\n",
       "      <td>5</td>\n",
       "      <td>50</td>\n",
       "      <td>44.0</td>\n",
       "      <td>satisfied</td>\n",
       "    </tr>\n",
       "    <tr>\n",
       "      <th>1</th>\n",
       "      <td>90035</td>\n",
       "      <td>Female</td>\n",
       "      <td>Loyal Customer</td>\n",
       "      <td>36</td>\n",
       "      <td>Business travel</td>\n",
       "      <td>Business</td>\n",
       "      <td>2863</td>\n",
       "      <td>1</td>\n",
       "      <td>1</td>\n",
       "      <td>3</td>\n",
       "      <td>...</td>\n",
       "      <td>4</td>\n",
       "      <td>4</td>\n",
       "      <td>4</td>\n",
       "      <td>4</td>\n",
       "      <td>3</td>\n",
       "      <td>4</td>\n",
       "      <td>5</td>\n",
       "      <td>0</td>\n",
       "      <td>0.0</td>\n",
       "      <td>satisfied</td>\n",
       "    </tr>\n",
       "    <tr>\n",
       "      <th>2</th>\n",
       "      <td>12360</td>\n",
       "      <td>Male</td>\n",
       "      <td>disloyal Customer</td>\n",
       "      <td>20</td>\n",
       "      <td>Business travel</td>\n",
       "      <td>Eco</td>\n",
       "      <td>192</td>\n",
       "      <td>2</td>\n",
       "      <td>0</td>\n",
       "      <td>2</td>\n",
       "      <td>...</td>\n",
       "      <td>2</td>\n",
       "      <td>4</td>\n",
       "      <td>1</td>\n",
       "      <td>3</td>\n",
       "      <td>2</td>\n",
       "      <td>2</td>\n",
       "      <td>2</td>\n",
       "      <td>0</td>\n",
       "      <td>0.0</td>\n",
       "      <td>neutral or dissatisfied</td>\n",
       "    </tr>\n",
       "    <tr>\n",
       "      <th>3</th>\n",
       "      <td>77959</td>\n",
       "      <td>Male</td>\n",
       "      <td>Loyal Customer</td>\n",
       "      <td>44</td>\n",
       "      <td>Business travel</td>\n",
       "      <td>Business</td>\n",
       "      <td>3377</td>\n",
       "      <td>0</td>\n",
       "      <td>0</td>\n",
       "      <td>0</td>\n",
       "      <td>...</td>\n",
       "      <td>1</td>\n",
       "      <td>1</td>\n",
       "      <td>1</td>\n",
       "      <td>1</td>\n",
       "      <td>3</td>\n",
       "      <td>1</td>\n",
       "      <td>4</td>\n",
       "      <td>0</td>\n",
       "      <td>6.0</td>\n",
       "      <td>satisfied</td>\n",
       "    </tr>\n",
       "    <tr>\n",
       "      <th>4</th>\n",
       "      <td>36875</td>\n",
       "      <td>Female</td>\n",
       "      <td>Loyal Customer</td>\n",
       "      <td>49</td>\n",
       "      <td>Business travel</td>\n",
       "      <td>Eco</td>\n",
       "      <td>1182</td>\n",
       "      <td>2</td>\n",
       "      <td>3</td>\n",
       "      <td>4</td>\n",
       "      <td>...</td>\n",
       "      <td>2</td>\n",
       "      <td>2</td>\n",
       "      <td>2</td>\n",
       "      <td>2</td>\n",
       "      <td>4</td>\n",
       "      <td>2</td>\n",
       "      <td>4</td>\n",
       "      <td>0</td>\n",
       "      <td>20.0</td>\n",
       "      <td>satisfied</td>\n",
       "    </tr>\n",
       "  </tbody>\n",
       "</table>\n",
       "<p>5 rows × 24 columns</p>\n",
       "</div>"
      ],
      "text/plain": [
       "      id  Gender      Customer Type  Age   Type of Travel     Class  \\\n",
       "0  19556  Female     Loyal Customer   52  Business travel       Eco   \n",
       "1  90035  Female     Loyal Customer   36  Business travel  Business   \n",
       "2  12360    Male  disloyal Customer   20  Business travel       Eco   \n",
       "3  77959    Male     Loyal Customer   44  Business travel  Business   \n",
       "4  36875  Female     Loyal Customer   49  Business travel       Eco   \n",
       "\n",
       "   Flight Distance  Inflight wifi service  Departure/Arrival time convenient  \\\n",
       "0              160                      5                                  4   \n",
       "1             2863                      1                                  1   \n",
       "2              192                      2                                  0   \n",
       "3             3377                      0                                  0   \n",
       "4             1182                      2                                  3   \n",
       "\n",
       "   Ease of Online booking  ...  Inflight entertainment  On-board service  \\\n",
       "0                       3  ...                       5                 5   \n",
       "1                       3  ...                       4                 4   \n",
       "2                       2  ...                       2                 4   \n",
       "3                       0  ...                       1                 1   \n",
       "4                       4  ...                       2                 2   \n",
       "\n",
       "   Leg room service  Baggage handling  Checkin service  Inflight service  \\\n",
       "0                 5                 5                2                 5   \n",
       "1                 4                 4                3                 4   \n",
       "2                 1                 3                2                 2   \n",
       "3                 1                 1                3                 1   \n",
       "4                 2                 2                4                 2   \n",
       "\n",
       "   Cleanliness  Departure Delay in Minutes  Arrival Delay in Minutes  \\\n",
       "0            5                          50                      44.0   \n",
       "1            5                           0                       0.0   \n",
       "2            2                           0                       0.0   \n",
       "3            4                           0                       6.0   \n",
       "4            4                           0                      20.0   \n",
       "\n",
       "              satisfaction  \n",
       "0                satisfied  \n",
       "1                satisfied  \n",
       "2  neutral or dissatisfied  \n",
       "3                satisfied  \n",
       "4                satisfied  \n",
       "\n",
       "[5 rows x 24 columns]"
      ]
     },
     "execution_count": 309,
     "metadata": {},
     "output_type": "execute_result"
    }
   ],
   "source": [
    "#show frist five rows \n",
    "df.head(5)"
   ]
  },
  {
   "cell_type": "markdown",
   "id": "c06ec0f6",
   "metadata": {},
   "source": [
    "## 2- Cleaning Data"
   ]
  },
  {
   "cell_type": "code",
   "execution_count": 311,
   "id": "e5ecbf54",
   "metadata": {},
   "outputs": [],
   "source": [
    "# Removes the spaces between the columns and replaces them with (_)\n",
    "df.columns=df.columns.str.replace(' ','_')"
   ]
  },
  {
   "cell_type": "code",
   "execution_count": 312,
   "id": "5c745794",
   "metadata": {},
   "outputs": [],
   "source": [
    "#Delete id column \n",
    "df.drop(['id'], axis=1, inplace=True)"
   ]
  },
  {
   "cell_type": "code",
   "execution_count": 313,
   "id": "7b527bb6",
   "metadata": {},
   "outputs": [],
   "source": [
    "#Delete Departure/Arrival_time_convenient column\n",
    "df.drop(['Departure/Arrival_time_convenient'], axis=1, inplace=True)"
   ]
  },
  {
   "cell_type": "code",
   "execution_count": 314,
   "id": "20673e18",
   "metadata": {},
   "outputs": [],
   "source": [
    "#Delete Gate_location column\n",
    "df.drop(['Gate_location'], axis=1, inplace=True)"
   ]
  },
  {
   "cell_type": "code",
   "execution_count": 315,
   "id": "0119a7d9",
   "metadata": {},
   "outputs": [],
   "source": [
    "#Delete Seat_comfort column\n",
    "df.drop(['Seat_comfort'], axis=1, inplace=True)"
   ]
  },
  {
   "cell_type": "code",
   "execution_count": 316,
   "id": "620f63fb",
   "metadata": {},
   "outputs": [],
   "source": [
    "#Delete Inflight_entertainment column\n",
    "df.drop(['Inflight_entertainment'], axis=1, inplace=True)"
   ]
  },
  {
   "cell_type": "code",
   "execution_count": 317,
   "id": "48aa3ef0",
   "metadata": {},
   "outputs": [],
   "source": [
    "#Delete Baggage_handling column\n",
    "df.drop(['Baggage_handling'], axis=1, inplace=True)"
   ]
  },
  {
   "cell_type": "code",
   "execution_count": 318,
   "id": "d4df4f0a",
   "metadata": {},
   "outputs": [],
   "source": [
    "#Delete Class column\n",
    "df.drop(['Class'], axis=1, inplace=True)"
   ]
  },
  {
   "cell_type": "code",
   "execution_count": 319,
   "id": "31e3b3ce",
   "metadata": {},
   "outputs": [],
   "source": [
    "#Delete Checkin_service column\n",
    "df.drop(['Checkin_service'], axis=1, inplace=True)"
   ]
  },
  {
   "cell_type": "code",
   "execution_count": 320,
   "id": "72d99c16",
   "metadata": {},
   "outputs": [],
   "source": [
    "#Delete Food_and_drink column\n",
    "df.drop(['Food_and_drink'], axis=1, inplace=True)"
   ]
  },
  {
   "cell_type": "code",
   "execution_count": 321,
   "id": "913be2a2",
   "metadata": {},
   "outputs": [],
   "source": [
    "#Delete On-board_service column\n",
    "df.drop(['On-board_service'], axis=1, inplace=True)"
   ]
  },
  {
   "cell_type": "code",
   "execution_count": 322,
   "id": "af110a1e",
   "metadata": {},
   "outputs": [],
   "source": [
    "#Delete Flight_Distance column\n",
    "df.drop(['Flight_Distance'], axis=1, inplace=True)"
   ]
  },
  {
   "cell_type": "code",
   "execution_count": 323,
   "id": "70aa228f",
   "metadata": {},
   "outputs": [],
   "source": [
    "#Delete Leg_room_service column\n",
    "df.drop(['Leg_room_service'], axis=1, inplace=True)"
   ]
  },
  {
   "cell_type": "code",
   "execution_count": 324,
   "id": "ae073e4e",
   "metadata": {},
   "outputs": [],
   "source": [
    "#Delete Cleanliness column\n",
    "df.drop(['Cleanliness'], axis=1, inplace=True)"
   ]
  },
  {
   "cell_type": "code",
   "execution_count": 325,
   "id": "57b684c1",
   "metadata": {},
   "outputs": [
    {
     "name": "stdout",
     "output_type": "stream",
     "text": [
      "<class 'pandas.core.frame.DataFrame'>\n",
      "Int64Index: 25976 entries, 0 to 25975\n",
      "Data columns (total 11 columns):\n",
      " #   Column                      Non-Null Count  Dtype  \n",
      "---  ------                      --------------  -----  \n",
      " 0   Gender                      25976 non-null  object \n",
      " 1   Customer_Type               25976 non-null  object \n",
      " 2   Age                         25976 non-null  int64  \n",
      " 3   Type_of_Travel              25976 non-null  object \n",
      " 4   Inflight_wifi_service       25976 non-null  int64  \n",
      " 5   Ease_of_Online_booking      25976 non-null  int64  \n",
      " 6   Online_boarding             25976 non-null  int64  \n",
      " 7   Inflight_service            25976 non-null  int64  \n",
      " 8   Departure_Delay_in_Minutes  25976 non-null  int64  \n",
      " 9   Arrival_Delay_in_Minutes    25893 non-null  float64\n",
      " 10  satisfaction                25976 non-null  object \n",
      "dtypes: float64(1), int64(6), object(4)\n",
      "memory usage: 2.4+ MB\n"
     ]
    }
   ],
   "source": [
    "#show data details\n",
    "df.info()"
   ]
  },
  {
   "cell_type": "code",
   "execution_count": 326,
   "id": "31a25e96",
   "metadata": {},
   "outputs": [
    {
     "data": {
      "text/plain": [
       "Gender                         object\n",
       "Customer_Type                  object\n",
       "Age                             int64\n",
       "Type_of_Travel                 object\n",
       "Inflight_wifi_service           int64\n",
       "Ease_of_Online_booking          int64\n",
       "Online_boarding                 int64\n",
       "Inflight_service                int64\n",
       "Departure_Delay_in_Minutes      int64\n",
       "Arrival_Delay_in_Minutes      float64\n",
       "satisfaction                   object\n",
       "dtype: object"
      ]
     },
     "execution_count": 326,
     "metadata": {},
     "output_type": "execute_result"
    }
   ],
   "source": [
    "#view data type\n",
    "df.dtypes"
   ]
  },
  {
   "cell_type": "code",
   "execution_count": 327,
   "id": "d030f5e8",
   "metadata": {},
   "outputs": [
    {
     "data": {
      "text/html": [
       "<div>\n",
       "<style scoped>\n",
       "    .dataframe tbody tr th:only-of-type {\n",
       "        vertical-align: middle;\n",
       "    }\n",
       "\n",
       "    .dataframe tbody tr th {\n",
       "        vertical-align: top;\n",
       "    }\n",
       "\n",
       "    .dataframe thead th {\n",
       "        text-align: right;\n",
       "    }\n",
       "</style>\n",
       "<table border=\"1\" class=\"dataframe\">\n",
       "  <thead>\n",
       "    <tr style=\"text-align: right;\">\n",
       "      <th></th>\n",
       "      <th>Age</th>\n",
       "      <th>Inflight_wifi_service</th>\n",
       "      <th>Ease_of_Online_booking</th>\n",
       "      <th>Online_boarding</th>\n",
       "      <th>Inflight_service</th>\n",
       "      <th>Departure_Delay_in_Minutes</th>\n",
       "      <th>Arrival_Delay_in_Minutes</th>\n",
       "    </tr>\n",
       "  </thead>\n",
       "  <tbody>\n",
       "    <tr>\n",
       "      <th>count</th>\n",
       "      <td>25976.000000</td>\n",
       "      <td>25976.000000</td>\n",
       "      <td>25976.000000</td>\n",
       "      <td>25976.000000</td>\n",
       "      <td>25976.000000</td>\n",
       "      <td>25976.00000</td>\n",
       "      <td>25893.000000</td>\n",
       "    </tr>\n",
       "    <tr>\n",
       "      <th>mean</th>\n",
       "      <td>39.620958</td>\n",
       "      <td>2.724746</td>\n",
       "      <td>2.756775</td>\n",
       "      <td>3.261665</td>\n",
       "      <td>3.649253</td>\n",
       "      <td>14.30609</td>\n",
       "      <td>14.740857</td>\n",
       "    </tr>\n",
       "    <tr>\n",
       "      <th>std</th>\n",
       "      <td>15.135685</td>\n",
       "      <td>1.335384</td>\n",
       "      <td>1.412951</td>\n",
       "      <td>1.355536</td>\n",
       "      <td>1.180681</td>\n",
       "      <td>37.42316</td>\n",
       "      <td>37.517539</td>\n",
       "    </tr>\n",
       "    <tr>\n",
       "      <th>min</th>\n",
       "      <td>7.000000</td>\n",
       "      <td>0.000000</td>\n",
       "      <td>0.000000</td>\n",
       "      <td>0.000000</td>\n",
       "      <td>0.000000</td>\n",
       "      <td>0.00000</td>\n",
       "      <td>0.000000</td>\n",
       "    </tr>\n",
       "    <tr>\n",
       "      <th>25%</th>\n",
       "      <td>27.000000</td>\n",
       "      <td>2.000000</td>\n",
       "      <td>2.000000</td>\n",
       "      <td>2.000000</td>\n",
       "      <td>3.000000</td>\n",
       "      <td>0.00000</td>\n",
       "      <td>0.000000</td>\n",
       "    </tr>\n",
       "    <tr>\n",
       "      <th>50%</th>\n",
       "      <td>40.000000</td>\n",
       "      <td>3.000000</td>\n",
       "      <td>3.000000</td>\n",
       "      <td>4.000000</td>\n",
       "      <td>4.000000</td>\n",
       "      <td>0.00000</td>\n",
       "      <td>0.000000</td>\n",
       "    </tr>\n",
       "    <tr>\n",
       "      <th>75%</th>\n",
       "      <td>51.000000</td>\n",
       "      <td>4.000000</td>\n",
       "      <td>4.000000</td>\n",
       "      <td>4.000000</td>\n",
       "      <td>5.000000</td>\n",
       "      <td>12.00000</td>\n",
       "      <td>13.000000</td>\n",
       "    </tr>\n",
       "    <tr>\n",
       "      <th>max</th>\n",
       "      <td>85.000000</td>\n",
       "      <td>5.000000</td>\n",
       "      <td>5.000000</td>\n",
       "      <td>5.000000</td>\n",
       "      <td>5.000000</td>\n",
       "      <td>1128.00000</td>\n",
       "      <td>1115.000000</td>\n",
       "    </tr>\n",
       "  </tbody>\n",
       "</table>\n",
       "</div>"
      ],
      "text/plain": [
       "                Age  Inflight_wifi_service  Ease_of_Online_booking  \\\n",
       "count  25976.000000           25976.000000            25976.000000   \n",
       "mean      39.620958               2.724746                2.756775   \n",
       "std       15.135685               1.335384                1.412951   \n",
       "min        7.000000               0.000000                0.000000   \n",
       "25%       27.000000               2.000000                2.000000   \n",
       "50%       40.000000               3.000000                3.000000   \n",
       "75%       51.000000               4.000000                4.000000   \n",
       "max       85.000000               5.000000                5.000000   \n",
       "\n",
       "       Online_boarding  Inflight_service  Departure_Delay_in_Minutes  \\\n",
       "count     25976.000000      25976.000000                 25976.00000   \n",
       "mean          3.261665          3.649253                    14.30609   \n",
       "std           1.355536          1.180681                    37.42316   \n",
       "min           0.000000          0.000000                     0.00000   \n",
       "25%           2.000000          3.000000                     0.00000   \n",
       "50%           4.000000          4.000000                     0.00000   \n",
       "75%           4.000000          5.000000                    12.00000   \n",
       "max           5.000000          5.000000                  1128.00000   \n",
       "\n",
       "       Arrival_Delay_in_Minutes  \n",
       "count              25893.000000  \n",
       "mean                  14.740857  \n",
       "std                   37.517539  \n",
       "min                    0.000000  \n",
       "25%                    0.000000  \n",
       "50%                    0.000000  \n",
       "75%                   13.000000  \n",
       "max                 1115.000000  "
      ]
     },
     "execution_count": 327,
     "metadata": {},
     "output_type": "execute_result"
    }
   ],
   "source": [
    "# show data stats\n",
    "df.describe()"
   ]
  },
  {
   "cell_type": "code",
   "execution_count": 328,
   "id": "72ffd91b",
   "metadata": {},
   "outputs": [
    {
     "data": {
      "text/plain": [
       "Gender                         0\n",
       "Customer_Type                  0\n",
       "Age                            0\n",
       "Type_of_Travel                 0\n",
       "Inflight_wifi_service          0\n",
       "Ease_of_Online_booking         0\n",
       "Online_boarding                0\n",
       "Inflight_service               0\n",
       "Departure_Delay_in_Minutes     0\n",
       "Arrival_Delay_in_Minutes      83\n",
       "satisfaction                   0\n",
       "dtype: int64"
      ]
     },
     "execution_count": 328,
     "metadata": {},
     "output_type": "execute_result"
    }
   ],
   "source": [
    "#view all null vaule\n",
    "df.isnull().sum()"
   ]
  },
  {
   "cell_type": "code",
   "execution_count": 329,
   "id": "2b90d564",
   "metadata": {},
   "outputs": [
    {
     "data": {
      "text/plain": [
       "(25976, 11)"
      ]
     },
     "execution_count": 329,
     "metadata": {},
     "output_type": "execute_result"
    }
   ],
   "source": [
    "#show number of rows and columns\n",
    "df.shape"
   ]
  },
  {
   "cell_type": "code",
   "execution_count": 331,
   "id": "c521790d",
   "metadata": {},
   "outputs": [],
   "source": [
    "#Delete all null values in this column \n",
    "df.dropna(subset=[\"Arrival_Delay_in_Minutes\"], inplace=True)"
   ]
  },
  {
   "cell_type": "code",
   "execution_count": 332,
   "id": "8d19ce18",
   "metadata": {},
   "outputs": [
    {
     "data": {
      "text/plain": [
       "(25893, 11)"
      ]
     },
     "execution_count": 332,
     "metadata": {},
     "output_type": "execute_result"
    }
   ],
   "source": [
    "#show the number of rows and columns\n",
    "df.dropna(subset=[\"Arrival_Delay_in_Minutes\"]).shape"
   ]
  },
  {
   "cell_type": "code",
   "execution_count": 333,
   "id": "23291920",
   "metadata": {},
   "outputs": [
    {
     "data": {
      "text/plain": [
       "(25893, 11)"
      ]
     },
     "execution_count": 333,
     "metadata": {},
     "output_type": "execute_result"
    }
   ],
   "source": [
    "#show the number of rows and columns\n",
    "df.shape"
   ]
  },
  {
   "cell_type": "markdown",
   "id": "438e17a8",
   "metadata": {},
   "source": [
    "## 3- Visualizations"
   ]
  },
  {
   "cell_type": "code",
   "execution_count": 348,
   "id": "1d72e007",
   "metadata": {},
   "outputs": [
    {
     "data": {
      "image/png": "[encoded data removed]",
      "text/plain": [
       "<Figure size 432x288 with 2 Axes>"
      ]
     },
     "metadata": {
      "needs_background": "light"
     },
     "output_type": "display_data"
    }
   ],
   "source": [
    "#show relationships between data \n",
    "sns.heatmap(df.corr(), cmap='coolwarm', annot=True);"
   ]
  },
  {
   "cell_type": "code",
   "execution_count": 334,
   "id": "06671f63",
   "metadata": {},
   "outputs": [
    {
     "data": {
      "text/plain": [
       "2"
      ]
     },
     "execution_count": 334,
     "metadata": {},
     "output_type": "execute_result"
    }
   ],
   "source": [
    "#Q1: What is the most preferred class of travel for customers traveling ?\n",
    "#Returns the unique numbers for the column\n",
    "df['Type_of_Travel'].nunique()"
   ]
  },
  {
   "cell_type": "code",
   "execution_count": 335,
   "id": "0cd9fb6b",
   "metadata": {},
   "outputs": [
    {
     "data": {
      "text/plain": [
       "array(['Business travel', 'Personal Travel'], dtype=object)"
      ]
     },
     "execution_count": 335,
     "metadata": {},
     "output_type": "execute_result"
    }
   ],
   "source": [
    "#Returns the unique values for the column\n",
    "df['Type_of_Travel'].unique()"
   ]
  },
  {
   "cell_type": "code",
   "execution_count": 336,
   "id": "31d9d5be",
   "metadata": {},
   "outputs": [
    {
     "data": {
      "text/plain": [
       "Business travel    17980\n",
       "Personal Travel     7913\n",
       "Name: Type_of_Travel, dtype: int64"
      ]
     },
     "execution_count": 336,
     "metadata": {},
     "output_type": "execute_result"
    }
   ],
   "source": [
    "#the number of values in this column\n",
    "df['Type_of_Travel'].value_counts()"
   ]
  },
  {
   "cell_type": "code",
   "execution_count": 337,
   "id": "abcfc9d2",
   "metadata": {},
   "outputs": [
    {
     "data": {
      "image/png": "[encoded data removed]",
      "text/plain": [
       "<Figure size 648x360 with 1 Axes>"
      ]
     },
     "metadata": {
      "needs_background": "light"
     },
     "output_type": "display_data"
    }
   ],
   "source": [
    "plt.figure(figsize=[9,5])\n",
    "type_of_travel=['Business travel','Personal Travel']\n",
    "very_frq=[17980,7913]\n",
    "plt.grid()\n",
    "plt.bar(type_of_travel,very_frq,color='g');\n",
    "plt.xlabel('Types of travel',fontsize = 15)\n",
    "plt.ylabel('Preference number',fontsize = 15);\n",
    "plt.title('Show of the preferred type ',fontsize = 20, weight = 'bold');\n"
   ]
  },
  {
   "cell_type": "code",
   "execution_count": 338,
   "id": "26b77e8f",
   "metadata": {},
   "outputs": [
    {
     "data": {
      "text/plain": [
       "2    6481\n",
       "3    6298\n",
       "4    4965\n",
       "1    4469\n",
       "5    2868\n",
       "0     812\n",
       "Name: Inflight_wifi_service, dtype: int64"
      ]
     },
     "execution_count": 338,
     "metadata": {},
     "output_type": "execute_result"
    }
   ],
   "source": [
    "#Q2: Are customers satisfied with the Wi-Fi service of the airline on which their flights are booked ? \n",
    "df['Inflight_wifi_service'].value_counts()"
   ]
  },
  {
   "cell_type": "code",
   "execution_count": 339,
   "id": "45bb3252",
   "metadata": {},
   "outputs": [
    {
     "data": {
      "image/png": "[encoded data removed]",
      "text/plain": [
       "<Figure size 648x360 with 1 Axes>"
      ]
     },
     "metadata": {
      "needs_background": "light"
     },
     "output_type": "display_data"
    }
   ],
   "source": [
    "plt.figure(figsize=[9,5])\n",
    "plt.grid()\n",
    "plt.xlabel('Satisfaction',fontsize = 15)\n",
    "plt.ylabel('number of people',fontsize = 15);\n",
    "plt.title('Satisfaction with the wi-fi service',fontsize = 20, weight = 'bold');\n",
    "plt.hist(df['Inflight_wifi_service']);"
   ]
  },
  {
   "cell_type": "code",
   "execution_count": 340,
   "id": "394151c3",
   "metadata": {},
   "outputs": [
    {
     "data": {
      "text/plain": [
       "2    6021\n",
       "3    5927\n",
       "4    4854\n",
       "1    4342\n",
       "5    3556\n",
       "0    1193\n",
       "Name: Ease_of_Online_booking, dtype: int64"
      ]
     },
     "execution_count": 340,
     "metadata": {},
     "output_type": "execute_result"
    }
   ],
   "source": [
    "#Q3:Are the most passengers find booking online easy or complicated?\n",
    "df['Ease_of_Online_booking'].value_counts()"
   ]
  },
  {
   "cell_type": "code",
   "execution_count": 341,
   "id": "c89fdbbe",
   "metadata": {},
   "outputs": [
    {
     "data": {
      "image/png": "[encoded data removed]",
      "text/plain": [
       "<Figure size 648x360 with 1 Axes>"
      ]
     },
     "metadata": {
      "needs_background": "light"
     },
     "output_type": "display_data"
    }
   ],
   "source": [
    "plt.figure(figsize=[9,5])\n",
    "plt.grid()\n",
    "plt.xlabel('Satisfaction',fontsize = 15)\n",
    "plt.ylabel('number of people',fontsize = 15);\n",
    "plt.title('Ease of Online booking',fontsize = 20, weight = 'bold');\n",
    "plt.hist(df['Ease_of_Online_booking'], color='#4B0082');"
   ]
  },
  {
   "cell_type": "code",
   "execution_count": 342,
   "id": "331120b9",
   "metadata": {},
   "outputs": [
    {
     "data": {
      "text/plain": [
       "array(['Loyal Customer', 'disloyal Customer'], dtype=object)"
      ]
     },
     "execution_count": 342,
     "metadata": {},
     "output_type": "execute_result"
    }
   ],
   "source": [
    "#Q4:who are more loyal customers does the airline have?\n",
    "df['Customer_Type'].unique()"
   ]
  },
  {
   "cell_type": "code",
   "execution_count": 343,
   "id": "19ae3179",
   "metadata": {},
   "outputs": [
    {
     "data": {
      "text/plain": [
       "Customer_Type      Gender\n",
       "Loyal Customer     Female    10563\n",
       "                   Male      10548\n",
       "disloyal Customer  Female     2564\n",
       "                   Male       2218\n",
       "Name: Gender, dtype: int64"
      ]
     },
     "execution_count": 343,
     "metadata": {},
     "output_type": "execute_result"
    }
   ],
   "source": [
    "#group by between two columns \n",
    "df.groupby('Customer_Type').Gender.value_counts()"
   ]
  },
  {
   "cell_type": "code",
   "execution_count": 344,
   "id": "0f38ff69",
   "metadata": {},
   "outputs": [],
   "source": [
    "#create two data frame form customer type column \n",
    "df1= df[(df.Customer_Type=='Loyal Customer')]\n",
    "df2= df[(df.Customer_Type=='disloyal Customer')]"
   ]
  },
  {
   "cell_type": "code",
   "execution_count": 345,
   "id": "e8427f06",
   "metadata": {},
   "outputs": [
    {
     "data": {
      "text/html": [
       "<div>\n",
       "<style scoped>\n",
       "    .dataframe tbody tr th:only-of-type {\n",
       "        vertical-align: middle;\n",
       "    }\n",
       "\n",
       "    .dataframe tbody tr th {\n",
       "        vertical-align: top;\n",
       "    }\n",
       "\n",
       "    .dataframe thead th {\n",
       "        text-align: right;\n",
       "    }\n",
       "</style>\n",
       "<table border=\"1\" class=\"dataframe\">\n",
       "  <thead>\n",
       "    <tr style=\"text-align: right;\">\n",
       "      <th></th>\n",
       "      <th>Gender</th>\n",
       "      <th>Customer_Type</th>\n",
       "      <th>Age</th>\n",
       "      <th>Type_of_Travel</th>\n",
       "      <th>Inflight_wifi_service</th>\n",
       "      <th>Ease_of_Online_booking</th>\n",
       "      <th>Online_boarding</th>\n",
       "      <th>Inflight_service</th>\n",
       "      <th>Departure_Delay_in_Minutes</th>\n",
       "      <th>Arrival_Delay_in_Minutes</th>\n",
       "      <th>satisfaction</th>\n",
       "    </tr>\n",
       "  </thead>\n",
       "  <tbody>\n",
       "    <tr>\n",
       "      <th>0</th>\n",
       "      <td>Female</td>\n",
       "      <td>Loyal Customer</td>\n",
       "      <td>52</td>\n",
       "      <td>Business travel</td>\n",
       "      <td>5</td>\n",
       "      <td>3</td>\n",
       "      <td>4</td>\n",
       "      <td>5</td>\n",
       "      <td>50</td>\n",
       "      <td>44.0</td>\n",
       "      <td>satisfied</td>\n",
       "    </tr>\n",
       "    <tr>\n",
       "      <th>1</th>\n",
       "      <td>Female</td>\n",
       "      <td>Loyal Customer</td>\n",
       "      <td>36</td>\n",
       "      <td>Business travel</td>\n",
       "      <td>1</td>\n",
       "      <td>3</td>\n",
       "      <td>4</td>\n",
       "      <td>4</td>\n",
       "      <td>0</td>\n",
       "      <td>0.0</td>\n",
       "      <td>satisfied</td>\n",
       "    </tr>\n",
       "    <tr>\n",
       "      <th>3</th>\n",
       "      <td>Male</td>\n",
       "      <td>Loyal Customer</td>\n",
       "      <td>44</td>\n",
       "      <td>Business travel</td>\n",
       "      <td>0</td>\n",
       "      <td>0</td>\n",
       "      <td>4</td>\n",
       "      <td>1</td>\n",
       "      <td>0</td>\n",
       "      <td>6.0</td>\n",
       "      <td>satisfied</td>\n",
       "    </tr>\n",
       "    <tr>\n",
       "      <th>4</th>\n",
       "      <td>Female</td>\n",
       "      <td>Loyal Customer</td>\n",
       "      <td>49</td>\n",
       "      <td>Business travel</td>\n",
       "      <td>2</td>\n",
       "      <td>4</td>\n",
       "      <td>1</td>\n",
       "      <td>2</td>\n",
       "      <td>0</td>\n",
       "      <td>20.0</td>\n",
       "      <td>satisfied</td>\n",
       "    </tr>\n",
       "    <tr>\n",
       "      <th>5</th>\n",
       "      <td>Male</td>\n",
       "      <td>Loyal Customer</td>\n",
       "      <td>16</td>\n",
       "      <td>Business travel</td>\n",
       "      <td>3</td>\n",
       "      <td>3</td>\n",
       "      <td>5</td>\n",
       "      <td>2</td>\n",
       "      <td>0</td>\n",
       "      <td>0.0</td>\n",
       "      <td>satisfied</td>\n",
       "    </tr>\n",
       "    <tr>\n",
       "      <th>...</th>\n",
       "      <td>...</td>\n",
       "      <td>...</td>\n",
       "      <td>...</td>\n",
       "      <td>...</td>\n",
       "      <td>...</td>\n",
       "      <td>...</td>\n",
       "      <td>...</td>\n",
       "      <td>...</td>\n",
       "      <td>...</td>\n",
       "      <td>...</td>\n",
       "      <td>...</td>\n",
       "    </tr>\n",
       "    <tr>\n",
       "      <th>25969</th>\n",
       "      <td>Male</td>\n",
       "      <td>Loyal Customer</td>\n",
       "      <td>52</td>\n",
       "      <td>Business travel</td>\n",
       "      <td>3</td>\n",
       "      <td>3</td>\n",
       "      <td>4</td>\n",
       "      <td>4</td>\n",
       "      <td>0</td>\n",
       "      <td>0.0</td>\n",
       "      <td>satisfied</td>\n",
       "    </tr>\n",
       "    <tr>\n",
       "      <th>25972</th>\n",
       "      <td>Male</td>\n",
       "      <td>Loyal Customer</td>\n",
       "      <td>23</td>\n",
       "      <td>Business travel</td>\n",
       "      <td>4</td>\n",
       "      <td>4</td>\n",
       "      <td>4</td>\n",
       "      <td>5</td>\n",
       "      <td>0</td>\n",
       "      <td>0.0</td>\n",
       "      <td>satisfied</td>\n",
       "    </tr>\n",
       "    <tr>\n",
       "      <th>25973</th>\n",
       "      <td>Female</td>\n",
       "      <td>Loyal Customer</td>\n",
       "      <td>17</td>\n",
       "      <td>Personal Travel</td>\n",
       "      <td>2</td>\n",
       "      <td>1</td>\n",
       "      <td>1</td>\n",
       "      <td>4</td>\n",
       "      <td>0</td>\n",
       "      <td>0.0</td>\n",
       "      <td>neutral or dissatisfied</td>\n",
       "    </tr>\n",
       "    <tr>\n",
       "      <th>25974</th>\n",
       "      <td>Male</td>\n",
       "      <td>Loyal Customer</td>\n",
       "      <td>14</td>\n",
       "      <td>Business travel</td>\n",
       "      <td>3</td>\n",
       "      <td>3</td>\n",
       "      <td>4</td>\n",
       "      <td>5</td>\n",
       "      <td>0</td>\n",
       "      <td>0.0</td>\n",
       "      <td>satisfied</td>\n",
       "    </tr>\n",
       "    <tr>\n",
       "      <th>25975</th>\n",
       "      <td>Female</td>\n",
       "      <td>Loyal Customer</td>\n",
       "      <td>42</td>\n",
       "      <td>Personal Travel</td>\n",
       "      <td>2</td>\n",
       "      <td>2</td>\n",
       "      <td>2</td>\n",
       "      <td>1</td>\n",
       "      <td>0</td>\n",
       "      <td>0.0</td>\n",
       "      <td>neutral or dissatisfied</td>\n",
       "    </tr>\n",
       "  </tbody>\n",
       "</table>\n",
       "<p>21111 rows × 11 columns</p>\n",
       "</div>"
      ],
      "text/plain": [
       "       Gender   Customer_Type  Age   Type_of_Travel  Inflight_wifi_service  \\\n",
       "0      Female  Loyal Customer   52  Business travel                      5   \n",
       "1      Female  Loyal Customer   36  Business travel                      1   \n",
       "3        Male  Loyal Customer   44  Business travel                      0   \n",
       "4      Female  Loyal Customer   49  Business travel                      2   \n",
       "5        Male  Loyal Customer   16  Business travel                      3   \n",
       "...       ...             ...  ...              ...                    ...   \n",
       "25969    Male  Loyal Customer   52  Business travel                      3   \n",
       "25972    Male  Loyal Customer   23  Business travel                      4   \n",
       "25973  Female  Loyal Customer   17  Personal Travel                      2   \n",
       "25974    Male  Loyal Customer   14  Business travel                      3   \n",
       "25975  Female  Loyal Customer   42  Personal Travel                      2   \n",
       "\n",
       "       Ease_of_Online_booking  Online_boarding  Inflight_service  \\\n",
       "0                           3                4                 5   \n",
       "1                           3                4                 4   \n",
       "3                           0                4                 1   \n",
       "4                           4                1                 2   \n",
       "5                           3                5                 2   \n",
       "...                       ...              ...               ...   \n",
       "25969                       3                4                 4   \n",
       "25972                       4                4                 5   \n",
       "25973                       1                1                 4   \n",
       "25974                       3                4                 5   \n",
       "25975                       2                2                 1   \n",
       "\n",
       "       Departure_Delay_in_Minutes  Arrival_Delay_in_Minutes  \\\n",
       "0                              50                      44.0   \n",
       "1                               0                       0.0   \n",
       "3                               0                       6.0   \n",
       "4                               0                      20.0   \n",
       "5                               0                       0.0   \n",
       "...                           ...                       ...   \n",
       "25969                           0                       0.0   \n",
       "25972                           0                       0.0   \n",
       "25973                           0                       0.0   \n",
       "25974                           0                       0.0   \n",
       "25975                           0                       0.0   \n",
       "\n",
       "                  satisfaction  \n",
       "0                    satisfied  \n",
       "1                    satisfied  \n",
       "3                    satisfied  \n",
       "4                    satisfied  \n",
       "5                    satisfied  \n",
       "...                        ...  \n",
       "25969                satisfied  \n",
       "25972                satisfied  \n",
       "25973  neutral or dissatisfied  \n",
       "25974                satisfied  \n",
       "25975  neutral or dissatisfied  \n",
       "\n",
       "[21111 rows x 11 columns]"
      ]
     },
     "execution_count": 345,
     "metadata": {},
     "output_type": "execute_result"
    }
   ],
   "source": [
    "df1"
   ]
  },
  {
   "cell_type": "code",
   "execution_count": 346,
   "id": "0e195604",
   "metadata": {},
   "outputs": [
    {
     "data": {
      "text/html": [
       "<div>\n",
       "<style scoped>\n",
       "    .dataframe tbody tr th:only-of-type {\n",
       "        vertical-align: middle;\n",
       "    }\n",
       "\n",
       "    .dataframe tbody tr th {\n",
       "        vertical-align: top;\n",
       "    }\n",
       "\n",
       "    .dataframe thead th {\n",
       "        text-align: right;\n",
       "    }\n",
       "</style>\n",
       "<table border=\"1\" class=\"dataframe\">\n",
       "  <thead>\n",
       "    <tr style=\"text-align: right;\">\n",
       "      <th></th>\n",
       "      <th>Gender</th>\n",
       "      <th>Customer_Type</th>\n",
       "      <th>Age</th>\n",
       "      <th>Type_of_Travel</th>\n",
       "      <th>Inflight_wifi_service</th>\n",
       "      <th>Ease_of_Online_booking</th>\n",
       "      <th>Online_boarding</th>\n",
       "      <th>Inflight_service</th>\n",
       "      <th>Departure_Delay_in_Minutes</th>\n",
       "      <th>Arrival_Delay_in_Minutes</th>\n",
       "      <th>satisfaction</th>\n",
       "    </tr>\n",
       "  </thead>\n",
       "  <tbody>\n",
       "    <tr>\n",
       "      <th>2</th>\n",
       "      <td>Male</td>\n",
       "      <td>disloyal Customer</td>\n",
       "      <td>20</td>\n",
       "      <td>Business travel</td>\n",
       "      <td>2</td>\n",
       "      <td>2</td>\n",
       "      <td>2</td>\n",
       "      <td>2</td>\n",
       "      <td>0</td>\n",
       "      <td>0.0</td>\n",
       "      <td>neutral or dissatisfied</td>\n",
       "    </tr>\n",
       "    <tr>\n",
       "      <th>24</th>\n",
       "      <td>Female</td>\n",
       "      <td>disloyal Customer</td>\n",
       "      <td>30</td>\n",
       "      <td>Business travel</td>\n",
       "      <td>4</td>\n",
       "      <td>5</td>\n",
       "      <td>5</td>\n",
       "      <td>4</td>\n",
       "      <td>0</td>\n",
       "      <td>0.0</td>\n",
       "      <td>neutral or dissatisfied</td>\n",
       "    </tr>\n",
       "    <tr>\n",
       "      <th>32</th>\n",
       "      <td>Male</td>\n",
       "      <td>disloyal Customer</td>\n",
       "      <td>41</td>\n",
       "      <td>Business travel</td>\n",
       "      <td>2</td>\n",
       "      <td>2</td>\n",
       "      <td>2</td>\n",
       "      <td>4</td>\n",
       "      <td>0</td>\n",
       "      <td>0.0</td>\n",
       "      <td>neutral or dissatisfied</td>\n",
       "    </tr>\n",
       "    <tr>\n",
       "      <th>38</th>\n",
       "      <td>Female</td>\n",
       "      <td>disloyal Customer</td>\n",
       "      <td>32</td>\n",
       "      <td>Business travel</td>\n",
       "      <td>4</td>\n",
       "      <td>4</td>\n",
       "      <td>4</td>\n",
       "      <td>5</td>\n",
       "      <td>0</td>\n",
       "      <td>10.0</td>\n",
       "      <td>neutral or dissatisfied</td>\n",
       "    </tr>\n",
       "    <tr>\n",
       "      <th>40</th>\n",
       "      <td>Female</td>\n",
       "      <td>disloyal Customer</td>\n",
       "      <td>42</td>\n",
       "      <td>Business travel</td>\n",
       "      <td>3</td>\n",
       "      <td>3</td>\n",
       "      <td>3</td>\n",
       "      <td>5</td>\n",
       "      <td>0</td>\n",
       "      <td>0.0</td>\n",
       "      <td>neutral or dissatisfied</td>\n",
       "    </tr>\n",
       "    <tr>\n",
       "      <th>...</th>\n",
       "      <td>...</td>\n",
       "      <td>...</td>\n",
       "      <td>...</td>\n",
       "      <td>...</td>\n",
       "      <td>...</td>\n",
       "      <td>...</td>\n",
       "      <td>...</td>\n",
       "      <td>...</td>\n",
       "      <td>...</td>\n",
       "      <td>...</td>\n",
       "      <td>...</td>\n",
       "    </tr>\n",
       "    <tr>\n",
       "      <th>25962</th>\n",
       "      <td>Female</td>\n",
       "      <td>disloyal Customer</td>\n",
       "      <td>21</td>\n",
       "      <td>Business travel</td>\n",
       "      <td>4</td>\n",
       "      <td>4</td>\n",
       "      <td>4</td>\n",
       "      <td>1</td>\n",
       "      <td>0</td>\n",
       "      <td>0.0</td>\n",
       "      <td>neutral or dissatisfied</td>\n",
       "    </tr>\n",
       "    <tr>\n",
       "      <th>25966</th>\n",
       "      <td>Male</td>\n",
       "      <td>disloyal Customer</td>\n",
       "      <td>42</td>\n",
       "      <td>Business travel</td>\n",
       "      <td>4</td>\n",
       "      <td>4</td>\n",
       "      <td>4</td>\n",
       "      <td>3</td>\n",
       "      <td>0</td>\n",
       "      <td>17.0</td>\n",
       "      <td>neutral or dissatisfied</td>\n",
       "    </tr>\n",
       "    <tr>\n",
       "      <th>25967</th>\n",
       "      <td>Female</td>\n",
       "      <td>disloyal Customer</td>\n",
       "      <td>39</td>\n",
       "      <td>Business travel</td>\n",
       "      <td>1</td>\n",
       "      <td>1</td>\n",
       "      <td>1</td>\n",
       "      <td>4</td>\n",
       "      <td>0</td>\n",
       "      <td>0.0</td>\n",
       "      <td>neutral or dissatisfied</td>\n",
       "    </tr>\n",
       "    <tr>\n",
       "      <th>25970</th>\n",
       "      <td>Female</td>\n",
       "      <td>disloyal Customer</td>\n",
       "      <td>36</td>\n",
       "      <td>Business travel</td>\n",
       "      <td>1</td>\n",
       "      <td>1</td>\n",
       "      <td>1</td>\n",
       "      <td>3</td>\n",
       "      <td>0</td>\n",
       "      <td>0.0</td>\n",
       "      <td>neutral or dissatisfied</td>\n",
       "    </tr>\n",
       "    <tr>\n",
       "      <th>25971</th>\n",
       "      <td>Male</td>\n",
       "      <td>disloyal Customer</td>\n",
       "      <td>34</td>\n",
       "      <td>Business travel</td>\n",
       "      <td>3</td>\n",
       "      <td>3</td>\n",
       "      <td>3</td>\n",
       "      <td>5</td>\n",
       "      <td>0</td>\n",
       "      <td>0.0</td>\n",
       "      <td>neutral or dissatisfied</td>\n",
       "    </tr>\n",
       "  </tbody>\n",
       "</table>\n",
       "<p>4782 rows × 11 columns</p>\n",
       "</div>"
      ],
      "text/plain": [
       "       Gender      Customer_Type  Age   Type_of_Travel  Inflight_wifi_service  \\\n",
       "2        Male  disloyal Customer   20  Business travel                      2   \n",
       "24     Female  disloyal Customer   30  Business travel                      4   \n",
       "32       Male  disloyal Customer   41  Business travel                      2   \n",
       "38     Female  disloyal Customer   32  Business travel                      4   \n",
       "40     Female  disloyal Customer   42  Business travel                      3   \n",
       "...       ...                ...  ...              ...                    ...   \n",
       "25962  Female  disloyal Customer   21  Business travel                      4   \n",
       "25966    Male  disloyal Customer   42  Business travel                      4   \n",
       "25967  Female  disloyal Customer   39  Business travel                      1   \n",
       "25970  Female  disloyal Customer   36  Business travel                      1   \n",
       "25971    Male  disloyal Customer   34  Business travel                      3   \n",
       "\n",
       "       Ease_of_Online_booking  Online_boarding  Inflight_service  \\\n",
       "2                           2                2                 2   \n",
       "24                          5                5                 4   \n",
       "32                          2                2                 4   \n",
       "38                          4                4                 5   \n",
       "40                          3                3                 5   \n",
       "...                       ...              ...               ...   \n",
       "25962                       4                4                 1   \n",
       "25966                       4                4                 3   \n",
       "25967                       1                1                 4   \n",
       "25970                       1                1                 3   \n",
       "25971                       3                3                 5   \n",
       "\n",
       "       Departure_Delay_in_Minutes  Arrival_Delay_in_Minutes  \\\n",
       "2                               0                       0.0   \n",
       "24                              0                       0.0   \n",
       "32                              0                       0.0   \n",
       "38                              0                      10.0   \n",
       "40                              0                       0.0   \n",
       "...                           ...                       ...   \n",
       "25962                           0                       0.0   \n",
       "25966                           0                      17.0   \n",
       "25967                           0                       0.0   \n",
       "25970                           0                       0.0   \n",
       "25971                           0                       0.0   \n",
       "\n",
       "                  satisfaction  \n",
       "2      neutral or dissatisfied  \n",
       "24     neutral or dissatisfied  \n",
       "32     neutral or dissatisfied  \n",
       "38     neutral or dissatisfied  \n",
       "40     neutral or dissatisfied  \n",
       "...                        ...  \n",
       "25962  neutral or dissatisfied  \n",
       "25966  neutral or dissatisfied  \n",
       "25967  neutral or dissatisfied  \n",
       "25970  neutral or dissatisfied  \n",
       "25971  neutral or dissatisfied  \n",
       "\n",
       "[4782 rows x 11 columns]"
      ]
     },
     "execution_count": 346,
     "metadata": {},
     "output_type": "execute_result"
    }
   ],
   "source": [
    "df2"
   ]
  },
  {
   "cell_type": "code",
   "execution_count": 347,
   "id": "09a38c58",
   "metadata": {},
   "outputs": [
    {
     "data": {
      "image/png": "[encoded data removed]",
      "text/plain": [
       "<Figure size 1224x360 with 2 Axes>"
      ]
     },
     "metadata": {},
     "output_type": "display_data"
    }
   ],
   "source": [
    "plt.figure(figsize=(17,5))\n",
    "plt.subplot(1,2,1)\n",
    "plt.title('Loyal Customer',fontsize = 20, weight = 'bold');\n",
    "new_x = df1.groupby('Customer_Type').Gender.value_counts()\n",
    "plt.pie(new_x,labels=['Female','Male'],autopct='%1.0f%%');\n",
    "plt.subplot(1,2,2)\n",
    "plt.title('disloyal Customer',fontsize = 20, weight = 'bold');\n",
    "new_x = df2.groupby('Customer_Type').Gender.value_counts()\n",
    "plt.pie(new_x,labels=['Female','Male'], autopct='%1.0f%%');"
   ]
  }
 ],
 "metadata": {
  "kernelspec": {
   "display_name": "Python 3",
   "language": "python",
   "name": "python3"
  },
  "language_info": {
   "codemirror_mode": {
    "name": "ipython",
    "version": 3
   },
   "file_extension": ".py",
   "mimetype": "text/x-python",
   "name": "python",
   "nbconvert_exporter": "python",
   "pygments_lexer": "ipython3",
   "version": "3.8.8"
  }
 },
 "nbformat": 4,
 "nbformat_minor": 5
}
